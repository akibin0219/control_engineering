{
 "cells": [
  {
   "cell_type": "code",
   "execution_count": 1,
   "id": "vocational-healing",
   "metadata": {},
   "outputs": [],
   "source": [
    "#モジュールのインポート\n",
    "from control.matlab import *\n",
    "import sympy as sp#文字式計算のモジュール\n"
   ]
  },
  {
   "cell_type": "code",
   "execution_count": null,
   "id": "informed-fundamentals",
   "metadata": {
    "code_folding": [
     0,
     6,
     12
    ]
   },
   "outputs": [],
   "source": [
    "def linestyle_generator():\n",
    "    linestyle = ['-', '--', '-.', ':']\n",
    "    lineID = 0\n",
    "    while True:\n",
    "        yield linestyle[lineID]\n",
    "        lineID = (lineID + 1) % len(linestyle)\n",
    "def plot_set(fig_ax, *args):\n",
    "    fig_ax.set_xlabel(args[0])\n",
    "    fig_ax.set_ylabel(args[1])\n",
    "    fig_ax.grid(ls=':')\n",
    "    if len(args)==3:\n",
    "        fig_ax.legend(loc=args[2])\n",
    "def bodeplot_set(fig_ax, *args):\n",
    "    fig_ax[0].grid(which=\"both\", ls=':')\n",
    "    fig_ax[0].set_ylabel('Gain [dB]')\n",
    "\n",
    "    fig_ax[1].grid(which=\"both\", ls=':')\n",
    "    fig_ax[1].set_xlabel('$\\omega$ [rad/s]')\n",
    "    fig_ax[1].set_ylabel('Phase [deg]')\n",
    "    \n",
    "    if len(args) > 0:\n",
    "        fig_ax[1].legend(loc=args[0])\n",
    "    if len(args) > 1:\n",
    "        fig_ax[0].legend(loc=args[1])"
   ]
  },
  {
   "cell_type": "code",
   "execution_count": null,
   "id": "removable-problem",
   "metadata": {},
   "outputs": [],
   "source": []
  },
  {
   "cell_type": "code",
   "execution_count": null,
   "id": "representative-affairs",
   "metadata": {},
   "outputs": [],
   "source": []
  },
  {
   "cell_type": "code",
   "execution_count": null,
   "id": "sharp-shame",
   "metadata": {},
   "outputs": [],
   "source": []
  },
  {
   "cell_type": "code",
   "execution_count": null,
   "id": "wooden-extent",
   "metadata": {},
   "outputs": [],
   "source": []
  },
  {
   "cell_type": "code",
   "execution_count": null,
   "id": "awful-involvement",
   "metadata": {},
   "outputs": [],
   "source": []
  },
  {
   "cell_type": "code",
   "execution_count": null,
   "id": "threaded-student",
   "metadata": {},
   "outputs": [],
   "source": []
  },
  {
   "cell_type": "code",
   "execution_count": null,
   "id": "consolidated-concern",
   "metadata": {},
   "outputs": [],
   "source": []
  },
  {
   "cell_type": "code",
   "execution_count": null,
   "id": "fleet-vegetable",
   "metadata": {},
   "outputs": [],
   "source": []
  },
  {
   "cell_type": "code",
   "execution_count": null,
   "id": "welsh-miracle",
   "metadata": {},
   "outputs": [],
   "source": []
  },
  {
   "cell_type": "code",
   "execution_count": null,
   "id": "numeric-thesis",
   "metadata": {},
   "outputs": [],
   "source": []
  },
  {
   "cell_type": "code",
   "execution_count": null,
   "id": "sudden-genome",
   "metadata": {},
   "outputs": [],
   "source": []
  },
  {
   "cell_type": "code",
   "execution_count": null,
   "id": "ranging-boards",
   "metadata": {},
   "outputs": [],
   "source": []
  },
  {
   "cell_type": "code",
   "execution_count": null,
   "id": "confused-holocaust",
   "metadata": {},
   "outputs": [],
   "source": []
  },
  {
   "cell_type": "code",
   "execution_count": null,
   "id": "impressive-antigua",
   "metadata": {},
   "outputs": [],
   "source": []
  },
  {
   "cell_type": "code",
   "execution_count": null,
   "id": "governmental-attack",
   "metadata": {},
   "outputs": [],
   "source": []
  },
  {
   "cell_type": "code",
   "execution_count": null,
   "id": "casual-robert",
   "metadata": {},
   "outputs": [],
   "source": []
  },
  {
   "cell_type": "code",
   "execution_count": null,
   "id": "center-cincinnati",
   "metadata": {},
   "outputs": [],
   "source": []
  },
  {
   "cell_type": "code",
   "execution_count": null,
   "id": "mighty-absolute",
   "metadata": {},
   "outputs": [],
   "source": []
  }
 ],
 "metadata": {
  "kernelspec": {
   "display_name": "Python 3",
   "language": "python",
   "name": "python3"
  },
  "language_info": {
   "codemirror_mode": {
    "name": "ipython",
    "version": 3
   },
   "file_extension": ".py",
   "mimetype": "text/x-python",
   "name": "python",
   "nbconvert_exporter": "python",
   "pygments_lexer": "ipython3",
   "version": "3.8.7"
  },
  "varInspector": {
   "cols": {
    "lenName": 16,
    "lenType": 16,
    "lenVar": 40
   },
   "kernels_config": {
    "python": {
     "delete_cmd_postfix": "",
     "delete_cmd_prefix": "del ",
     "library": "var_list.py",
     "varRefreshCmd": "print(var_dic_list())"
    },
    "r": {
     "delete_cmd_postfix": ") ",
     "delete_cmd_prefix": "rm(",
     "library": "var_list.r",
     "varRefreshCmd": "cat(var_dic_list()) "
    }
   },
   "types_to_exclude": [
    "module",
    "function",
    "builtin_function_or_method",
    "instance",
    "_Feature"
   ],
   "window_display": false
  }
 },
 "nbformat": 4,
 "nbformat_minor": 5
}
