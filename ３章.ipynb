{
 "cells": [
  {
   "cell_type": "code",
   "execution_count": 11,
   "id": "three-wireless",
   "metadata": {},
   "outputs": [],
   "source": [
    "#モジュールのインポート\n",
    "from control.matlab import *\n",
    "import sympy as sp#文字式計算のモジュール\n"
   ]
  },
  {
   "cell_type": "markdown",
   "id": "right-reception",
   "metadata": {},
   "source": [
    "## 伝達関数モデルの記述"
   ]
  },
  {
   "cell_type": "code",
   "execution_count": 4,
   "id": "educated-newark",
   "metadata": {},
   "outputs": [
    {
     "name": "stdout",
     "output_type": "stream",
     "text": [
      "P= \n",
      "    s + 1\n",
      "-------------\n",
      "s^2 + 2 s + 3\n",
      "\n"
     ]
    }
   ],
   "source": [
    "np=[1,1]#分子の係数\n",
    "dp=[1,2,3]#分母の係数\n",
    "P=tf(np,dp)\n",
    "print(\"P=\",P)"
   ]
  },
  {
   "cell_type": "code",
   "execution_count": 5,
   "id": "better-collect",
   "metadata": {},
   "outputs": [
    {
     "name": "stdout",
     "output_type": "stream",
     "text": [
      "\n",
      "        s + 2\n",
      "---------------------\n",
      "s^3 + 5 s^2 + 3 s + 4\n",
      "\n"
     ]
    }
   ],
   "source": [
    "#練習問題\n",
    "upper=[1,2]\n",
    "under=[1,5,3,4]\n",
    "P=tf(upper,under)\n",
    "print(P)"
   ]
  },
  {
   "cell_type": "code",
   "execution_count": 10,
   "id": "military-suicide",
   "metadata": {},
   "outputs": [
    {
     "data": {
      "image/png": "[encoded data removed]",
      "text/latex": [
       "$\\displaystyle s^{3} + 5 s^{2} + 8 s + 4$"
      ],
      "text/plain": [
       " 3      2          \n",
       "s  + 5⋅s  + 8⋅s + 4"
      ]
     },
     "execution_count": 10,
     "metadata": {},
     "output_type": "execute_result"
    }
   ],
   "source": [
    "#分母多項式の展開(復習)\n",
    "sp.init_printing()\n",
    "s=sp.Symbol('s')#文字の定義\n",
    "sp.expand( (s+1)*(s+2)**2, s)#文字式の展開"
   ]
  },
  {
   "cell_type": "code",
   "execution_count": 13,
   "id": "excessive-links",
   "metadata": {},
   "outputs": [
    {
     "name": "stdout",
     "output_type": "stream",
     "text": [
      "\n",
      "        s + 3\n",
      "---------------------\n",
      "s^3 + 5 s^2 + 8 s + 4\n",
      "\n"
     ]
    }
   ],
   "source": [
    "P1=tf([1,3],[0,1])\n",
    "P2=tf([0,1],(1,1))\n",
    "P3=tf([0,1],(1,2))\n",
    "P=P1*P2*P3**2\n",
    "print(P)"
   ]
  },
  {
   "cell_type": "code",
   "execution_count": null,
   "id": "preliminary-muslim",
   "metadata": {},
   "outputs": [],
   "source": []
  },
  {
   "cell_type": "code",
   "execution_count": null,
   "id": "modular-lloyd",
   "metadata": {},
   "outputs": [],
   "source": []
  },
  {
   "cell_type": "code",
   "execution_count": null,
   "id": "objective-recorder",
   "metadata": {},
   "outputs": [],
   "source": []
  },
  {
   "cell_type": "code",
   "execution_count": null,
   "id": "proprietary-advisory",
   "metadata": {},
   "outputs": [],
   "source": []
  },
  {
   "cell_type": "code",
   "execution_count": null,
   "id": "filled-johnson",
   "metadata": {},
   "outputs": [],
   "source": []
  },
  {
   "cell_type": "code",
   "execution_count": null,
   "id": "pleased-nothing",
   "metadata": {},
   "outputs": [],
   "source": []
  }
 ],
 "metadata": {
  "kernelspec": {
   "display_name": "Python 3",
   "language": "python",
   "name": "python3"
  },
  "language_info": {
   "codemirror_mode": {
    "name": "ipython",
    "version": 3
   },
   "file_extension": ".py",
   "mimetype": "text/x-python",
   "name": "python",
   "nbconvert_exporter": "python",
   "pygments_lexer": "ipython3",
   "version": "3.8.7"
  },
  "varInspector": {
   "cols": {
    "lenName": 16,
    "lenType": 16,
    "lenVar": 40
   },
   "kernels_config": {
    "python": {
     "delete_cmd_postfix": "",
     "delete_cmd_prefix": "del ",
     "library": "var_list.py",
     "varRefreshCmd": "print(var_dic_list())"
    },
    "r": {
     "delete_cmd_postfix": ") ",
     "delete_cmd_prefix": "rm(",
     "library": "var_list.r",
     "varRefreshCmd": "cat(var_dic_list()) "
    }
   },
   "types_to_exclude": [
    "module",
    "function",
    "builtin_function_or_method",
    "instance",
    "_Feature"
   ],
   "window_display": false
  }
 },
 "nbformat": 4,
 "nbformat_minor": 5
}
